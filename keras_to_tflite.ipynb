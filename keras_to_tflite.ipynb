{
  "nbformat": 4,
  "nbformat_minor": 0,
  "metadata": {
    "colab": {
      "provenance": [],
      "machine_shape": "hm",
      "gpuType": "A100",
      "mount_file_id": "1tZcSEI4IiciP7DX8DmrUFUXEjudBidWq",
      "authorship_tag": "ABX9TyMGKqLZubz2WDSHAciwkSRa",
      "include_colab_link": true
    },
    "kernelspec": {
      "name": "python3",
      "display_name": "Python 3"
    },
    "language_info": {
      "name": "python"
    },
    "accelerator": "GPU"
  },
  "cells": [
    {
      "cell_type": "markdown",
      "metadata": {
        "id": "view-in-github",
        "colab_type": "text"
      },
      "source": [
        "<a href=\"https://colab.research.google.com/github/ersaayan/age-gender-detection/blob/main/keras_to_tflite.ipynb\" target=\"_parent\"><img src=\"https://colab.research.google.com/assets/colab-badge.svg\" alt=\"Open In Colab\"/></a>"
      ]
    },
    {
      "cell_type": "code",
      "execution_count": null,
      "metadata": {
        "id": "3Pykpt5s4EK6"
      },
      "outputs": [],
      "source": [
        "import tensorflow as tf\n",
        "import keras\n",
        "from keras.models import load_model\n",
        "\n",
        "\"\"\"emotion_model = load_model('emotion_detection_model_100epochs.keras', compile=False)\"\"\"\n",
        "gender_model = load_model('/content/drive/MyDrive/11111AAAAAA/gender_model_100epochs.keras', compile=False)\n",
        "age_model = load_model('/content/drive/MyDrive/11111AAAAAA/age_model_100epochs.keras', compile=False)\n",
        "\n",
        "\"\"\"converter = tf.lite.TFLiteConverter.from_keras_model(emotion_model)\n",
        "#converter.optimizations = [tf.lite.Optimize.DEFAULT] #Uses default optimization strategy to reduce the model size\n",
        "tflite_model = converter.convert()\n",
        "open(\"emotion_detection_model_100epochs_no_opt.tflite\", \"wb\").write(tflite_model)\"\"\"\n",
        "\n",
        "\n",
        "converter = tf.lite.TFLiteConverter.from_keras_model(gender_model)\n",
        "converter.optimizations = [tf.lite.Optimize.DEFAULT] #Uses default optimization strategy to reduce the model size\n",
        "tflite_model = converter.convert()\n",
        "open(\"gender_detection_model_50epochs_opt.tflite\", \"wb\").write(tflite_model)\n",
        "\n",
        "\n",
        "converter = tf.lite.TFLiteConverter.from_keras_model(age_model)\n",
        "converter.optimizations = [tf.lite.Optimize.DEFAULT] #Uses default optimization strategy to reduce the model size\n",
        "tflite_model = converter.convert()\n",
        "open(\"age_detection_model_50epochs_opt.tflite\", \"wb\").write(tflite_model)"
      ]
    }
  ]
}